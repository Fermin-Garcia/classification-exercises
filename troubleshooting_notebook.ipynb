{
 "cells": [
  {
   "cell_type": "code",
   "execution_count": null,
   "id": "8696ac26",
   "metadata": {},
   "outputs": [],
   "source": [
    "import pandas as pd\n",
    "import  os\n",
    "import env"
   ]
  },
  {
   "cell_type": "code",
   "execution_count": null,
   "id": "eb1f710f",
   "metadata": {},
   "outputs": [],
   "source": [
    "def get_connection(db, user=env.user, host=env.host, password=env.password):\n",
    "    return f'mysql+pymysql://{user}:{password}@{host}/{db}'"
   ]
  },
  {
   "cell_type": "code",
   "execution_count": null,
   "id": "cd2b0208",
   "metadata": {},
   "outputs": [],
   "source": [
    "def get_titanic_data():\n",
    "    if os.path.isfile('titanic.csv') == True:\n",
    "        pd.read_csv('titanic.csv')\n",
    "    else:\n",
    "        return pd.read_sql('SELECT * FROM passengers', get_connection('titanic_db'))"
   ]
  },
  {
   "cell_type": "code",
   "execution_count": null,
   "id": "41f2385d",
   "metadata": {},
   "outputs": [],
   "source": [
    "iris_sql=\"SELECT measurements.measurement_id, \\\n",
    "    measurements.sepal_length, measurements.sepal_width, measurements.petal_length, \\\n",
    "        measurements.petal_width, species.species_name, species.species_id \\\n",
    "            FROM measurements JOIN species ON(species.species_id=measurements.species_id)\"\n",
    "\n",
    "def get_iris_data():\n",
    "    if os.path.isfile('iris.csv') == True:\n",
    "        print('im here 2')\n",
    "        return pd.read_csv('iris.csv')\n",
    "    else:\n",
    "         iris_df = pd.read_sql(iris_sql,get_connection('iris_db'))\n",
    "         iris_df.to_csv('iris.csv')\n",
    "         return pd.read_csv('iris.csv')\n",
    "    \n",
    "    \n",
    "#     if os.path.isfile('iris.csv') == True:\n",
    "#         pd.read_csv('iris.csv')\n",
    "#     else:\n",
    "#         return pd.read_sql(iris_sql,get_connection('iris_db'))\n",
    "\n",
    "df = get_iris_data()\n",
    "df"
   ]
  },
  {
   "cell_type": "code",
   "execution_count": null,
   "id": "66874c25",
   "metadata": {},
   "outputs": [],
   "source": [
    "# trouble shooting block\n",
    "iris_df = pd.read_sql(iris_sql,get_connection('iris_db'))\n",
    "# iris_df.to_csv('iris.csv')\n",
    "# return pd.read_csv('iris.csv')\n",
    "iris_df"
   ]
  },
  {
   "cell_type": "code",
   "execution_count": null,
   "id": "3c76b50d",
   "metadata": {},
   "outputs": [],
   "source": [
    "telco_sql= \" select * \\\n",
    "from customers \\\n",
    "join customer_contracts using(customer_id) \\\n",
    "join internet_service_types using(internet_service_type_id) \\\n",
    "join payment_types using(payment_type_id) \"\n",
    "\n",
    "def get_telco_data():\n",
    "    if os.path.isfile('telco.csv') == True:\n",
    "        return pd.read_csv('telco.csv')\n",
    "    else:\n",
    "         df = pd.read_sql(telco_sql,get_connection('telco_churn')),\n",
    "         return df.read_csv('telco.csv')"
   ]
  }
 ],
 "metadata": {
  "kernelspec": {
   "display_name": "Python 3 (ipykernel)",
   "language": "python",
   "name": "python3"
  },
  "language_info": {
   "codemirror_mode": {
    "name": "ipython",
    "version": 3
   },
   "file_extension": ".py",
   "mimetype": "text/x-python",
   "name": "python",
   "nbconvert_exporter": "python",
   "pygments_lexer": "ipython3",
   "version": "3.9.13"
  }
 },
 "nbformat": 4,
 "nbformat_minor": 5
}

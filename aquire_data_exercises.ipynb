{
 "cells": [
  {
   "cell_type": "code",
   "execution_count": null,
   "id": "c25111e9",
   "metadata": {},
   "outputs": [],
   "source": [
    "import pandas as pd\n",
    "import env \n",
    "import numpy as np \n",
    "import matplotlib as plt\n",
    "import seaborn as sns \n",
    "from pydataset import data\n"
   ]
  },
  {
   "cell_type": "code",
   "execution_count": null,
   "id": "f54333d9",
   "metadata": {},
   "outputs": [],
   "source": [
    "df = data('iris')"
   ]
  },
  {
   "cell_type": "code",
   "execution_count": null,
   "id": "ad0992ae",
   "metadata": {},
   "outputs": [],
   "source": [
    "print(df.head(3))\n",
    "print(df.shape)\n",
    "print(df.columns)\n",
    "print(df.dtypes)\n",
    "print(df.describe())"
   ]
  },
  {
   "cell_type": "code",
   "execution_count": null,
   "id": "2a408059",
   "metadata": {},
   "outputs": [],
   "source": [
    "\n",
    "\n",
    "sheet_url = 'https://docs.google.com/spreadsheets/d/e/2PACX-1vS6Aj1UToL1-RmcUCbHdo9Jyi8FCzs3PEkbIzZtmT_RdVUiBn5EVBqmoQmFkm5g168egcUwWASyACCf/pub?output=csv'    \n",
    "\n",
    "#csv_export_url = sheet_url.replace('/edit#gid=', '/export?format=csv&gid=')\n",
    "\n",
    "df_googlesheet = pd.read_csv(sheet_url)\n",
    "\n",
    "'''\n",
    "print the first 3 rows\n",
    "print the number of rows and columns\n",
    "print the column names\n",
    "print the data type of each column\n",
    "print the summary statistics for each of the numeric variables\n",
    "print the unique values for each of your categorical variables\n",
    "\n",
    "'''\n",
    "\n",
    "\n",
    "\n",
    "pd.DataFrame(df_googlesheet.head(),\n",
    "df_googlesheet.shape,\n",
    "df_googlesheet.columns,\n",
    "df_googlesheet.dtypes,\n",
    "df_googlesheet.describe(),\n",
    "for col in df_googlesheet.columns:\n",
    "    return (df_googlesheet[col].unique())"
   ]
  },
  {
   "cell_type": "code",
   "execution_count": null,
   "id": "82d00521",
   "metadata": {},
   "outputs": [],
   "source": [
    "import pandas as pd\n",
    "\n",
    "sheet_url = 'https://docs.google.com/spreadsheets/d/e/2PACX-1vS6Aj1UToL1-RmcUCbHdo9Jyi8FCzs3PEkbIzZtmT_RdVUiBn5EVBqmoQmFkm5g168egcUwWASyACCf/pub?output=csv'\n",
    "df_googlesheet = pd.read_csv(sheet_url)\n",
    "\n",
    "# Print the first 3 rows\n",
    "print(\"First 3 rows:\")\n",
    "print(df_googlesheet.head(3))\n",
    "\n",
    "# Print the number of rows and columns\n",
    "print(\"Number of rows and columns:\")\n",
    "print(df_googlesheet.shape)\n",
    "\n",
    "# Print the column names\n",
    "print(\"Column names:\")\n",
    "print(df_googlesheet.columns)\n",
    "\n",
    "# Print the data type of each column\n",
    "print(\"Data types:\")\n",
    "print(df_googlesheet.dtypes)\n",
    "\n",
    "# Print the summary statistics for each of the numeric variables\n",
    "print(\"Summary statistics for numeric variables:\")\n",
    "print(df_googlesheet.describe())\n",
    "\n",
    "# Print the unique values for each of your categorical variables\n",
    "print(\"Unique values for categorical variables:\")\n",
    "for col in df_googlesheet.select_dtypes(include=['object']).columns:\n",
    "    print(f\"Column: {col}\")\n",
    "    print(df_googlesheet[col].unique())\n"
   ]
  },
  {
   "cell_type": "code",
   "execution_count": 48,
   "id": "c87a5bb9",
   "metadata": {},
   "outputs": [],
   "source": [
    "import get_databases as gdb\n",
    "\n",
    "df = gdb.get_titanic_data()"
   ]
  }
 ],
 "metadata": {
  "kernelspec": {
   "display_name": "Python 3 (ipykernel)",
   "language": "python",
   "name": "python3"
  },
  "language_info": {
   "codemirror_mode": {
    "name": "ipython",
    "version": 3
   },
   "file_extension": ".py",
   "mimetype": "text/x-python",
   "name": "python",
   "nbconvert_exporter": "python",
   "pygments_lexer": "ipython3",
   "version": "3.9.13"
  }
 },
 "nbformat": 4,
 "nbformat_minor": 5
}

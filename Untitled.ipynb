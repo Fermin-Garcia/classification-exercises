{
 "cells": [
  {
   "cell_type": "code",
   "execution_count": 1,
   "id": "ed6bbcc1",
   "metadata": {},
   "outputs": [],
   "source": [
    "Va_backpay_estimate = (1463.61*4) + (1346.78*6)"
   ]
  },
  {
   "cell_type": "code",
   "execution_count": 3,
   "id": "56b9a473",
   "metadata": {},
   "outputs": [
    {
     "data": {
      "text/plain": [
       "13935.12"
      ]
     },
     "execution_count": 3,
     "metadata": {},
     "output_type": "execute_result"
    }
   ],
   "source": [
    "round(Va_backpay_estimate,2)"
   ]
  },
  {
   "cell_type": "code",
   "execution_count": 5,
   "id": "fd10a5ce",
   "metadata": {},
   "outputs": [
    {
     "data": {
      "text/plain": [
       "11635.119999999999"
      ]
     },
     "execution_count": 5,
     "metadata": {},
     "output_type": "execute_result"
    }
   ],
   "source": [
    "c_a = 2500\n",
    "c_o = 200\n",
    "\n",
    "Va_backpay_estimate - (c_a- c_o) \n"
   ]
  }
 ],
 "metadata": {
  "kernelspec": {
   "display_name": "Python 3 (ipykernel)",
   "language": "python",
   "name": "python3"
  },
  "language_info": {
   "codemirror_mode": {
    "name": "ipython",
    "version": 3
   },
   "file_extension": ".py",
   "mimetype": "text/x-python",
   "name": "python",
   "nbconvert_exporter": "python",
   "pygments_lexer": "ipython3",
   "version": "3.9.13"
  }
 },
 "nbformat": 4,
 "nbformat_minor": 5
}

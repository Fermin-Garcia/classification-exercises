{
 "cells": [
  {
   "cell_type": "code",
   "execution_count": null,
   "id": "d7abcbdb",
   "metadata": {},
   "outputs": [],
   "source": [
    "import pandas as pd\n",
    "from sklearn.tree import DecisionTreeClassifier, export_text, plot_tree\n",
    "from sklearn.metrics import accuracy_score, classification_report, confusion_matrix \n",
    "from sklearn.model_selection import train_test_split\n",
    "import seaborn as sns"
   ]
  },
  {
   "cell_type": "code",
   "execution_count": null,
   "id": "cd2490e4",
   "metadata": {},
   "outputs": [],
   "source": [
    "from pydataset import data"
   ]
  },
  {
   "cell_type": "markdown",
   "id": "81a56c98",
   "metadata": {},
   "source": [
    "### Aquisition"
   ]
  },
  {
   "cell_type": "code",
   "execution_count": null,
   "id": "7152b50d",
   "metadata": {},
   "outputs": [],
   "source": [
    "iris = data('iris')\n",
    "# visually inspect \n",
    "iris.info()"
   ]
  },
  {
   "cell_type": "markdown",
   "id": "49265c6c",
   "metadata": {},
   "source": [
    "### Prepration"
   ]
  },
  {
   "cell_type": "code",
   "execution_count": null,
   "id": "a0082a66",
   "metadata": {},
   "outputs": [],
   "source": [
    "iris.head()"
   ]
  },
  {
   "cell_type": "code",
   "execution_count": null,
   "id": "29f5a8d3",
   "metadata": {},
   "outputs": [],
   "source": [
    "# clean up column names \n",
    "iris.rename(columns = {'blah' : 'real_blah'})\n",
    "iris.columns = [col.lower().replace('.', '_') for col in iris]\n",
    "iris"
   ]
  },
  {
   "cell_type": "markdown",
   "id": "a734dfb5",
   "metadata": {},
   "source": [
    "### Exploration "
   ]
  },
  {
   "cell_type": "code",
   "execution_count": null,
   "id": "65c4ab05",
   "metadata": {},
   "outputs": [],
   "source": [
    "train_val, test = train_test_split(\n",
    "iris,\n",
    "train_size=0.7,\n",
    "random_state=1349,\n",
    "stratify=iris['species']\n",
    ")\n",
    "\n",
    "train, validate = train_test_split(\n",
    "train_val,\n",
    "train_size = 0.7,\n",
    "random_state=1349,\n",
    "    stratify=train_val['species']\n",
    "\n",
    ")"
   ]
  },
  {
   "cell_type": "markdown",
   "id": "f0def2ec",
   "metadata": {},
   "source": [
    "### Modeling!!"
   ]
  },
  {
   "cell_type": "code",
   "execution_count": null,
   "id": "92220a16",
   "metadata": {},
   "outputs": [],
   "source": [
    "x_cols = train.columns.to_list()\n",
    "y_cols = 'species'\n",
    "x_cols.remove('species')"
   ]
  },
  {
   "cell_type": "code",
   "execution_count": null,
   "id": "e050c747",
   "metadata": {},
   "outputs": [],
   "source": [
    "train[y_cols]"
   ]
  },
  {
   "cell_type": "code",
   "execution_count": null,
   "id": "97c7d183",
   "metadata": {},
   "outputs": [],
   "source": [
    "clf = DecisionTreeClassifier()\n",
    "\n",
    "# what is the thing \n",
    "clf\n"
   ]
  },
  {
   "cell_type": "code",
   "execution_count": null,
   "id": "bec9c30d",
   "metadata": {},
   "outputs": [],
   "source": [
    "# fit the thing\n",
    "\n",
    "clf.fit(train[x_cols], train[y_cols])"
   ]
  },
  {
   "cell_type": "code",
   "execution_count": null,
   "id": "0017ee8c",
   "metadata": {},
   "outputs": [],
   "source": [
    "model_1_pred = clf.predict(train[x_cols])"
   ]
  },
  {
   "cell_type": "code",
   "execution_count": null,
   "id": "4ceb771c",
   "metadata": {},
   "outputs": [],
   "source": [
    "clf1 = DecisionTreeClassifier(max_depth=2)\n",
    "clf1.fit(train[x_cols], train[y_cols])\n",
    "model_2_preds = clf1.predict(train[x_cols])"
   ]
  },
  {
   "cell_type": "code",
   "execution_count": null,
   "id": "a5bf6da3",
   "metadata": {},
   "outputs": [],
   "source": [
    "clf1.score(train[x_cols],train[y_cols] )"
   ]
  },
  {
   "cell_type": "code",
   "execution_count": null,
   "id": "a10b3754",
   "metadata": {},
   "outputs": [],
   "source": [
    "X_train = train [x_cols]\n",
    "y_train = train[y_cols]\n"
   ]
  },
  {
   "cell_type": "code",
   "execution_count": null,
   "id": "77373585",
   "metadata": {},
   "outputs": [],
   "source": [
    "from sklearn.ensemble import RandomForestClassifier"
   ]
  },
  {
   "cell_type": "code",
   "execution_count": null,
   "id": "a31ecf28",
   "metadata": {},
   "outputs": [],
   "source": [
    "# make the things\n",
    "rf = RandomForestClassifier()\n",
    "#fit the thing\n",
    "rf.fit(X_train[['petal_length', 'petal_width']], y_train)\n",
    "# use the thing\n",
    "\n",
    "rfi1_preds = rf.predict(X_train[['petal_length', 'petal_width']])"
   ]
  },
  {
   "cell_type": "code",
   "execution_count": null,
   "id": "e2a2896c",
   "metadata": {},
   "outputs": [],
   "source": [
    "rfi1_preds"
   ]
  },
  {
   "cell_type": "code",
   "execution_count": null,
   "id": "519f5bef",
   "metadata": {},
   "outputs": [],
   "source": [
    "x_val, y_val = validate[x_cols], validate[y_cols]"
   ]
  },
  {
   "cell_type": "code",
   "execution_count": null,
   "id": "7d078f7e",
   "metadata": {},
   "outputs": [],
   "source": [
    "print(f'''\n",
    "accuracy (Train): {clf.score(X_train, y_train)}\n",
    "Accuracy (validate): {clf.score(x_val, y_val)}\n",
    "''')"
   ]
  }
 ],
 "metadata": {
  "kernelspec": {
   "display_name": "Python 3 (ipykernel)",
   "language": "python",
   "name": "python3"
  },
  "language_info": {
   "codemirror_mode": {
    "name": "ipython",
    "version": 3
   },
   "file_extension": ".py",
   "mimetype": "text/x-python",
   "name": "python",
   "nbconvert_exporter": "python",
   "pygments_lexer": "ipython3",
   "version": "3.9.13"
  }
 },
 "nbformat": 4,
 "nbformat_minor": 5
}
